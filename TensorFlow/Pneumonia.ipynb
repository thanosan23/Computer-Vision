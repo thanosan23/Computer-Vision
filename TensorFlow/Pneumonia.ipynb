{
  "nbformat": 4,
  "nbformat_minor": 0,
  "metadata": {
    "colab": {
      "name": "Pneumonia.ipynb",
      "provenance": [],
      "collapsed_sections": []
    },
    "kernelspec": {
      "display_name": "Python 3",
      "name": "python3"
    },
    "language_info": {
      "name": "python"
    }
  },
  "cells": [
    {
      "cell_type": "code",
      "metadata": {
        "id": "imMx9E7L0x4A"
      },
      "source": [
        "!pip install -q efficientnet >> /dev/null"
      ],
      "execution_count": 10,
      "outputs": []
    },
    {
      "cell_type": "code",
      "metadata": {
        "colab": {
          "base_uri": "https://localhost:8080/"
        },
        "id": "GgSRCRtwXpRu",
        "outputId": "5381f91f-9a98-435d-98fd-82d651fdb8ea"
      },
      "source": [
        "import os\n",
        "\n",
        "import efficientnet.tfkeras as efn\n",
        "import numpy as np\n",
        "import pandas as pd\n",
        "import tensorflow as tf\n",
        "import matplotlib.pyplot as plt\n",
        "from sklearn.model_selection import train_test_split\n",
        "import glob\n",
        "import random\n",
        "\n",
        "print(\"Using TensorFlow version\", tf.__version__)"
      ],
      "execution_count": 11,
      "outputs": [
        {
          "output_type": "stream",
          "text": [
            "Using TensorFlow version 2.6.0\n"
          ],
          "name": "stdout"
        }
      ]
    },
    {
      "cell_type": "code",
      "metadata": {
        "id": "PCfyuExvYxh0"
      },
      "source": [
        "AUTOTUNE = tf.data.experimental.AUTOTUNE\n",
        "BATCH_SIZE = 16\n",
        "IMAGE_SIZE = (150, 150)\n",
        "EPOCHS = 5"
      ],
      "execution_count": 12,
      "outputs": []
    },
    {
      "cell_type": "code",
      "metadata": {
        "id": "T5HX0CIgZ-SV"
      },
      "source": [
        "files = glob.glob('../input/chest_xray/train/*/*')\n",
        "files.extend(glob.glob('../input/chest_xray/val/*/*'))\n",
        "random.shuffle(files)\n",
        "train_files, val_files = train_test_split(files, test_size=0.2)"
      ],
      "execution_count": 13,
      "outputs": []
    },
    {
      "cell_type": "code",
      "metadata": {
        "colab": {
          "base_uri": "https://localhost:8080/"
        },
        "id": "JQ1ZGWBmaJGU",
        "outputId": "a913ea96-0a83-4f26-f27c-79148f3505cb"
      },
      "source": [
        "print(\"Image Counts In Training Set: \")\n",
        "print(\"Normal images:\", len([file for file in train_files if \"NORMAL\" in file]))\n",
        "print(\"Pneumonia images:\", len([file for file in train_files if \"PNEUMONIA\" in file]))"
      ],
      "execution_count": 14,
      "outputs": [
        {
          "output_type": "stream",
          "text": [
            "Image Counts In Training Set: \n",
            "Normal images: 1078\n",
            "Pneumonia images: 3107\n"
          ],
          "name": "stdout"
        }
      ]
    },
    {
      "cell_type": "code",
      "metadata": {
        "id": "XcME8-O4aKtE"
      },
      "source": [
        "# Create dataset\n",
        "train_list_ds = tf.data.Dataset.from_tensor_slices(train_files)\n",
        "val_list_ds = tf.data.Dataset.from_tensor_slices(val_files)"
      ],
      "execution_count": 15,
      "outputs": []
    },
    {
      "cell_type": "code",
      "metadata": {
        "colab": {
          "base_uri": "https://localhost:8080/"
        },
        "id": "Mr9qfV5DaQWk",
        "outputId": "72463076-74de-4819-b79d-04028a87360e"
      },
      "source": [
        "CLASS_NAMES = os.listdir(\"../input/chest_xray/train/\")\n",
        "CLASS_NAMES"
      ],
      "execution_count": 16,
      "outputs": [
        {
          "output_type": "execute_result",
          "data": {
            "text/plain": [
              "['PNEUMONIA', 'NORMAL']"
            ]
          },
          "metadata": {},
          "execution_count": 16
        }
      ]
    },
    {
      "cell_type": "code",
      "metadata": {
        "id": "5KCottFSaZfd"
      },
      "source": [
        "@tf.function\n",
        "def process_path(file_path):\n",
        "  path_parts = tf.strings.split(file_path, sep=os.path.sep)\n",
        "  cls = path_parts[-2]\n",
        "  label = (0 if cls == \"PNEUMONIA\" else 1)\n",
        "  img = tf.io.read_file(file_path)\n",
        "  img = tf.image.decode_jpeg(img, channels=3)\n",
        "  img = tf.image.convert_image_dtype(img, tf.float32)\n",
        "  img = tf.image.resize(img, IMAGE_SIZE)\n",
        "  return img, label"
      ],
      "execution_count": 17,
      "outputs": []
    },
    {
      "cell_type": "code",
      "metadata": {
        "id": "50kyNKM4lgI9"
      },
      "source": [
        "@tf.function\n",
        "def data_augmentation(image, label):\n",
        "  image = tf.image.random_flip_left_right(image)\n",
        "  return image, label"
      ],
      "execution_count": 18,
      "outputs": []
    },
    {
      "cell_type": "code",
      "metadata": {
        "id": "9cp78vV1aa0d"
      },
      "source": [
        "train_ds = train_list_ds.map(process_path, num_parallel_calls=AUTOTUNE)\n",
        "val_ds = val_list_ds.map(process_path, num_parallel_calls=AUTOTUNE)"
      ],
      "execution_count": 19,
      "outputs": []
    },
    {
      "cell_type": "code",
      "metadata": {
        "id": "5hL0-YhjadJt"
      },
      "source": [
        "test_list_ds = tf.data.Dataset.list_files('../input/chest_xray/test/*/*')\n",
        "test_ds = test_list_ds.map(process_path, num_parallel_calls=AUTOTUNE)\n",
        "test_ds = test_ds.batch(BATCH_SIZE)"
      ],
      "execution_count": 20,
      "outputs": []
    },
    {
      "cell_type": "code",
      "metadata": {
        "colab": {
          "base_uri": "https://localhost:8080/",
          "height": 269
        },
        "id": "5QbR7wUL7E9z",
        "outputId": "1abb375c-dba9-40bd-80d4-537cfeede3cc"
      },
      "source": [
        "test_img, test_label = next(iter(test_ds))\n",
        "plt.imshow(test_img[0])\n",
        "del test_img, test_label"
      ],
      "execution_count": 21,
      "outputs": [
        {
          "output_type": "display_data",
          "data": {
            "image/png": "[encoded data removed]",
            "text/plain": [
              "<Figure size 432x288 with 1 Axes>"
            ]
          },
          "metadata": {
            "needs_background": "light"
          }
        }
      ]
    },
    {
      "cell_type": "code",
      "metadata": {
        "id": "En3omSpQakO1"
      },
      "source": [
        "@tf.function\n",
        "def prepare(ds, augment=False):\n",
        "    ds = ds.cache()\n",
        "    ds = ds.shuffle(buffer_size=1000)\n",
        "    ds = ds.batch(BATCH_SIZE)\n",
        "    if augment:\n",
        "      ds = ds.map(data_augmentation, num_parallel_calls=AUTOTUNE)\n",
        "    ds = ds.prefetch(buffer_size=AUTOTUNE)\n",
        "    return ds"
      ],
      "execution_count": 22,
      "outputs": []
    },
    {
      "cell_type": "code",
      "metadata": {
        "id": "LAEPnurWaprU"
      },
      "source": [
        "train_ds = prepare(train_ds, augment=True)\n",
        "val_ds = prepare(val_ds)"
      ],
      "execution_count": 23,
      "outputs": []
    },
    {
      "cell_type": "code",
      "metadata": {
        "colab": {
          "base_uri": "https://localhost:8080/"
        },
        "id": "PMoGXcH8bHmE",
        "outputId": "f4ec43f3-5fc8-4c0a-d354-6cb75aead9d4"
      },
      "source": [
        "NORMAL_AMOUNT = len([filename for filename in train_files if \"NORMAL\" in filename])\n",
        "PNEUMONIA_AMOUNT = len([filename for filename in train_files if \"PNEUMONIA\" in filename])\n",
        "TRAIN_AMOUNT = tf.data.experimental.cardinality(train_list_ds).numpy()\n",
        "VAL_AMOUNT = tf.data.experimental.cardinality(val_list_ds).numpy()\n",
        "\n",
        "WEIGHT_FOR_0 = (1 / NORMAL_AMOUNT)*(TRAIN_AMOUNT)/2.0 \n",
        "WEIGHT_FOR_1 = (1 / PNEUMONIA_AMOUNT)*(TRAIN_AMOUNT)/2.0\n",
        "\n",
        "class_weight = {0: WEIGHT_FOR_0, 1: WEIGHT_FOR_1}\n",
        "\n",
        "print('Weight for class 0: {:.2f}'.format(WEIGHT_FOR_0))\n",
        "print('Weight for class 1: {:.2f}'.format(WEIGHT_FOR_1))"
      ],
      "execution_count": 24,
      "outputs": [
        {
          "output_type": "stream",
          "text": [
            "Weight for class 0: 1.94\n",
            "Weight for class 1: 0.67\n"
          ],
          "name": "stdout"
        }
      ]
    },
    {
      "cell_type": "code",
      "metadata": {
        "id": "PIXj3PXL1BWe"
      },
      "source": [
        "def create_model():\n",
        "  inp = tf.keras.layers.Input(shape=(IMAGE_SIZE[0], IMAGE_SIZE[1], 3))\n",
        "  base = efn.EfficientNetB0(input_shape=(IMAGE_SIZE[0], IMAGE_SIZE[1], 3),weights='imagenet', include_top=False)\n",
        "  x = base(inp)\n",
        "  x = tf.keras.layers.GlobalAveragePooling2D()(x)\n",
        "  x = tf.keras.layers.Dense(1, activation='sigmoid')(x)\n",
        "  model = tf.keras.Model(inputs=inp, outputs=x)\n",
        "  return model"
      ],
      "execution_count": 26,
      "outputs": []
    },
    {
      "cell_type": "code",
      "metadata": {
        "id": "IpPD9Tqj7gvm",
        "colab": {
          "base_uri": "https://localhost:8080/"
        },
        "outputId": "6de4aae4-768f-413b-9001-85064f22a4da"
      },
      "source": [
        "tf.keras.backend.clear_session()\n",
        "tf.random.set_seed(42)\n",
        "\n",
        "model = create_model()\n",
        "\n",
        "model.compile(optimizer=tf.keras.optimizers.Adam(), loss='binary_crossentropy', metrics=['accuracy'])"
      ],
      "execution_count": 27,
      "outputs": [
        {
          "output_type": "stream",
          "text": [
            "Downloading data from https://github.com/Callidior/keras-applications/releases/download/efficientnet/efficientnet-b0_weights_tf_dim_ordering_tf_kernels_autoaugment_notop.h5\n",
            "16809984/16804768 [==============================] - 0s 0us/step\n",
            "16818176/16804768 [==============================] - 0s 0us/step\n"
          ],
          "name": "stdout"
        }
      ]
    },
    {
      "cell_type": "code",
      "metadata": {
        "id": "pA3l3ww3bTo9"
      },
      "source": [
        "early_stopping = tf.keras.callbacks.EarlyStopping(monitor=\"val_loss\", patience=10, restore_best_weights=True)"
      ],
      "execution_count": 28,
      "outputs": []
    },
    {
      "cell_type": "code",
      "metadata": {
        "colab": {
          "base_uri": "https://localhost:8080/"
        },
        "id": "GW31yg_LoN_l",
        "outputId": "f99576cb-0782-44f6-91a5-397cde4af553"
      },
      "source": [
        "history = model.fit(train_ds, epochs=EPOCHS, validation_data=val_ds, class_weight=class_weight, callbacks=[early_stopping])"
      ],
      "execution_count": 29,
      "outputs": [
        {
          "output_type": "stream",
          "text": [
            "Epoch 1/5\n",
            "262/262 [==============================] - 532s 2s/step - loss: 0.1545 - accuracy: 0.9422 - val_loss: 1.5694 - val_accuracy: 0.7479\n",
            "Epoch 2/5\n",
            "262/262 [==============================] - 480s 2s/step - loss: 0.0680 - accuracy: 0.9749 - val_loss: 0.0863 - val_accuracy: 0.9733\n",
            "Epoch 3/5\n",
            "262/262 [==============================] - 478s 2s/step - loss: 0.0606 - accuracy: 0.9785 - val_loss: 0.0808 - val_accuracy: 0.9675\n",
            "Epoch 4/5\n",
            "262/262 [==============================] - 473s 2s/step - loss: 0.0375 - accuracy: 0.9864 - val_loss: 0.0302 - val_accuracy: 0.9904\n",
            "Epoch 5/5\n",
            "262/262 [==============================] - 485s 2s/step - loss: 0.0356 - accuracy: 0.9876 - val_loss: 0.0288 - val_accuracy: 0.9895\n"
          ],
          "name": "stdout"
        }
      ]
    },
    {
      "cell_type": "code",
      "metadata": {
        "id": "yIpPjCUSxW-C",
        "colab": {
          "base_uri": "https://localhost:8080/",
          "height": 282
        },
        "outputId": "349557ae-15cd-48c1-8d19-2184373e4f5e"
      },
      "source": [
        "training_info = pd.DataFrame(history.history)\n",
        "training_info['val_loss'].plot()"
      ],
      "execution_count": 30,
      "outputs": [
        {
          "output_type": "execute_result",
          "data": {
            "text/plain": [
              "<matplotlib.axes._subplots.AxesSubplot at 0x7f0314ab6110>"
            ]
          },
          "metadata": {},
          "execution_count": 30
        },
        {
          "output_type": "display_data",
          "data": {
            "image/png": "[encoded data removed]",
            "text/plain": [
              "<Figure size 432x288 with 1 Axes>"
            ]
          },
          "metadata": {
            "needs_background": "light"
          }
        }
      ]
    },
    {
      "cell_type": "markdown",
      "metadata": {
        "id": "6QyQkNKuSxrI"
      },
      "source": [
        "### End Remarks\n",
        "I learned a lot about transfer learning and adding class weights. I also learned a lot about TensorFlow's API. More metrics can be put into place to make the model better, but for a small project, this model is fine."
      ]
    }
  ]
}