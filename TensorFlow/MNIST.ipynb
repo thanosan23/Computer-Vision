{
  "nbformat": 4,
  "nbformat_minor": 0,
  "metadata": {
    "colab": {
      "name": "MNIST_CNN.ipynb",
      "provenance": [],
      "collapsed_sections": []
    },
    "kernelspec": {
      "name": "python3",
      "display_name": "Python 3"
    },
    "language_info": {
      "name": "python"
    },
    "accelerator": "GPU"
  },
  "cells": [
    {
      "cell_type": "markdown",
      "metadata": {
        "id": "VihzK62lJnml"
      },
      "source": [
        "# MNIST CNN\n",
        "This mini-project was to learn more about TensorFlow and how to use TensorFlow datasets. I wanted to use the MNIST dataset as it is really easy to get started with."
      ]
    },
    {
      "cell_type": "code",
      "metadata": {
        "colab": {
          "base_uri": "https://localhost:8080/"
        },
        "id": "AOLWAamHEnlO",
        "outputId": "d0c4b4a3-ddfb-439d-ccf6-d091587643e5"
      },
      "source": [
        "# install tensorflow-addons just incase it isn't installed\n",
        "!pip install tensorflow-addons"
      ],
      "execution_count": 1,
      "outputs": [
        {
          "output_type": "stream",
          "text": [
            "Requirement already satisfied: tensorflow-addons in /usr/local/lib/python3.7/dist-packages (0.13.0)\n",
            "Requirement already satisfied: typeguard>=2.7 in /usr/local/lib/python3.7/dist-packages (from tensorflow-addons) (2.7.1)\n"
          ],
          "name": "stdout"
        }
      ]
    },
    {
      "cell_type": "code",
      "metadata": {
        "id": "k-99oqbZ3xYW"
      },
      "source": [
        "# import libraries that we may use\n",
        "import tensorflow as tf\n",
        "\n",
        "import tensorflow_addons as tfa\n",
        "import tensorflow_datasets as tfds\n",
        "\n",
        "from tqdm import tqdm\n",
        "import numpy as np\n",
        "import math\n",
        "import os"
      ],
      "execution_count": 2,
      "outputs": []
    },
    {
      "cell_type": "code",
      "metadata": {
        "id": "SJq4ZqPYCdya"
      },
      "source": [
        "# load in MNIST data from tensorflow_datasets\n",
        "(ds_train, ds_test), ds_info = tfds.load(\n",
        "    \"mnist\",\n",
        "    split=[\"train\", \"test\"],\n",
        "    shuffle_files=False, \n",
        "    as_supervised=True,\n",
        "    with_info=True\n",
        ")"
      ],
      "execution_count": 3,
      "outputs": []
    },
    {
      "cell_type": "code",
      "metadata": {
        "id": "HmlzXU-9KYFh"
      },
      "source": [
        "@tf.function\n",
        "def rotate(img, max_degrees=20):\n",
        "  degrees = tf.random.uniform([], -max_degrees, max_degrees, dtype=tf.float32)\n",
        "  radians = degrees * math.pi / 180 # convert degrees to radians\n",
        "  img = tfa.image.rotate(img, radians, interpolation=\"BILINEAR\")\n",
        "  return img\n",
        "\n",
        "@tf.function\n",
        "def augment(image, label, w=28, h=28): # will be using tensorflow instead of opencv\n",
        "\n",
        "  # resize image\n",
        "  image = tf.image.resize(image, size=(w, h))\n",
        "\n",
        "  # random coloring of image\n",
        "  image = tf.image.random_brightness(image, max_delta=0.2)\n",
        "  image = tf.image.random_contrast(image, lower=0.5, upper=1.5)\n",
        "\n",
        "  # rotate image\n",
        "  image = rotate(image)\n",
        "  return image, label\n",
        "\n",
        "@tf.function\n",
        "def normalize_img(image, label):\n",
        "  image = tf.cast(image, tf.float32) / 255.0\n",
        "  return image, label\n"
      ],
      "execution_count": 4,
      "outputs": []
    },
    {
      "cell_type": "code",
      "metadata": {
        "id": "qxXlxeokCvRo"
      },
      "source": [
        "# Create dataset and preprocess them with the functions we just created\n",
        "AUTOTUNE = tf.data.experimental.AUTOTUNE\n",
        "BATCH_SIZE = 64\n",
        "\n",
        "ds_train = ds_train.cache()\n",
        "ds_train = ds_train.shuffle(ds_info.splits[\"train\"].num_examples)\n",
        "ds_train = ds_train.map(normalize_img, num_parallel_calls=AUTOTUNE)\n",
        "ds_train = ds_train.map(augment, num_parallel_calls=AUTOTUNE)\n",
        "ds_train = ds_train.batch(BATCH_SIZE)\n",
        "ds_train = ds_train.prefetch(AUTOTUNE)\n",
        "\n",
        "ds_test = ds_test.map(normalize_img, num_parallel_calls=AUTOTUNE)\n",
        "ds_test = ds_test.batch(BATCH_SIZE)\n",
        "ds_test = ds_test.prefetch(AUTOTUNE)"
      ],
      "execution_count": 5,
      "outputs": []
    },
    {
      "cell_type": "code",
      "metadata": {
        "id": "30pzJoo1DfQI"
      },
      "source": [
        "# Create model using the functional API\n",
        "def create_model():\n",
        "  inputs = tf.keras.Input(shape=(28, 28, 1))\n",
        "  x = tf.keras.layers.Conv2D(32, 3)(inputs)\n",
        "  x = tf.keras.layers.BatchNormalization()(x)\n",
        "  x = tf.keras.activations.relu(x)\n",
        "  x = tf.keras.layers.MaxPooling2D(2, 2)(x)\n",
        "  x = tf.keras.layers.Conv2D(64, 3)(inputs)\n",
        "  x = tf.keras.layers.BatchNormalization()(x)\n",
        "  x = tf.keras.activations.relu(x)\n",
        "  x = tf.keras.layers.MaxPooling2D(2, 2)(x) \n",
        "  x = tf.keras.layers.Conv2D(128, 3)(inputs)\n",
        "  x = tf.keras.layers.BatchNormalization()(x)\n",
        "  x = tf.keras.activations.relu(x)\n",
        "  x = tf.keras.layers.MaxPooling2D(2, 2)(x) \n",
        "  x = tf.keras.layers.Flatten()(x)\n",
        "  x = tf.keras.layers.Dense(64, activation=tf.keras.activations.relu)(x)\n",
        "  outputs = tf.keras.layers.Dense(10, activation=\"softmax\")(x)\n",
        "  \n",
        "  return tf.keras.Model(inputs=inputs, outputs=outputs)\n",
        "\n",
        "model = create_model()"
      ],
      "execution_count": 6,
      "outputs": []
    },
    {
      "cell_type": "code",
      "metadata": {
        "id": "u3IQfjZfKrIR"
      },
      "source": [
        "# Compile the model\n",
        "model.compile(loss=tf.keras.losses.SparseCategoricalCrossentropy(),\n",
        "              optimizer=tf.keras.optimizers.Adam(learning_rate=1e-4),\n",
        "              metrics=[\"accuracy\"])\n"
      ],
      "execution_count": 7,
      "outputs": []
    },
    {
      "cell_type": "code",
      "metadata": {
        "colab": {
          "base_uri": "https://localhost:8080/"
        },
        "id": "6p939I-TG6m-",
        "outputId": "2484a1ab-90e8-408a-cbc9-54f25d324c9d"
      },
      "source": [
        "# Summarize our model\n",
        "model.summary()"
      ],
      "execution_count": 8,
      "outputs": [
        {
          "output_type": "stream",
          "text": [
            "Model: \"model\"\n",
            "_________________________________________________________________\n",
            "Layer (type)                 Output Shape              Param #   \n",
            "=================================================================\n",
            "input_1 (InputLayer)         [(None, 28, 28, 1)]       0         \n",
            "_________________________________________________________________\n",
            "conv2d_2 (Conv2D)            (None, 26, 26, 128)       1280      \n",
            "_________________________________________________________________\n",
            "batch_normalization_2 (Batch (None, 26, 26, 128)       512       \n",
            "_________________________________________________________________\n",
            "tf.nn.relu_2 (TFOpLambda)    (None, 26, 26, 128)       0         \n",
            "_________________________________________________________________\n",
            "max_pooling2d_2 (MaxPooling2 (None, 13, 13, 128)       0         \n",
            "_________________________________________________________________\n",
            "flatten (Flatten)            (None, 21632)             0         \n",
            "_________________________________________________________________\n",
            "dense (Dense)                (None, 64)                1384512   \n",
            "_________________________________________________________________\n",
            "dense_1 (Dense)              (None, 10)                650       \n",
            "=================================================================\n",
            "Total params: 1,386,954\n",
            "Trainable params: 1,386,698\n",
            "Non-trainable params: 256\n",
            "_________________________________________________________________\n"
          ],
          "name": "stdout"
        }
      ]
    },
    {
      "cell_type": "code",
      "metadata": {
        "colab": {
          "base_uri": "https://localhost:8080/"
        },
        "id": "EsjT3zDPGDv8",
        "outputId": "bafb0c0f-488a-4c01-f094-de493605ca4a"
      },
      "source": [
        "# Fit the model\n",
        "history = model.fit(ds_train, epochs=30)"
      ],
      "execution_count": 9,
      "outputs": [
        {
          "output_type": "stream",
          "text": [
            "Epoch 1/30\n",
            "938/938 [==============================] - 17s 11ms/step - loss: 0.2952 - accuracy: 0.9167\n",
            "Epoch 2/30\n",
            "938/938 [==============================] - 11s 11ms/step - loss: 0.1292 - accuracy: 0.9636\n",
            "Epoch 3/30\n",
            "938/938 [==============================] - 12s 12ms/step - loss: 0.1003 - accuracy: 0.9714\n",
            "Epoch 4/30\n",
            "938/938 [==============================] - 11s 12ms/step - loss: 0.0858 - accuracy: 0.9752\n",
            "Epoch 5/30\n",
            "938/938 [==============================] - 11s 11ms/step - loss: 0.0768 - accuracy: 0.9787\n",
            "Epoch 6/30\n",
            "938/938 [==============================] - 11s 11ms/step - loss: 0.0706 - accuracy: 0.9801\n",
            "Epoch 7/30\n",
            "938/938 [==============================] - 11s 12ms/step - loss: 0.0637 - accuracy: 0.9815\n",
            "Epoch 8/30\n",
            "938/938 [==============================] - 12s 12ms/step - loss: 0.0599 - accuracy: 0.9831\n",
            "Epoch 9/30\n",
            "938/938 [==============================] - 12s 12ms/step - loss: 0.0541 - accuracy: 0.9838\n",
            "Epoch 10/30\n",
            "938/938 [==============================] - 11s 11ms/step - loss: 0.0503 - accuracy: 0.9846\n",
            "Epoch 11/30\n",
            "938/938 [==============================] - 11s 11ms/step - loss: 0.0474 - accuracy: 0.9855\n",
            "Epoch 12/30\n",
            "938/938 [==============================] - 11s 11ms/step - loss: 0.0441 - accuracy: 0.9875\n",
            "Epoch 13/30\n",
            "938/938 [==============================] - 11s 12ms/step - loss: 0.0442 - accuracy: 0.9870\n",
            "Epoch 14/30\n",
            "938/938 [==============================] - 11s 12ms/step - loss: 0.0395 - accuracy: 0.9885\n",
            "Epoch 15/30\n",
            "938/938 [==============================] - 11s 12ms/step - loss: 0.0392 - accuracy: 0.9884\n",
            "Epoch 16/30\n",
            "938/938 [==============================] - 11s 11ms/step - loss: 0.0372 - accuracy: 0.9890\n",
            "Epoch 17/30\n",
            "938/938 [==============================] - 12s 12ms/step - loss: 0.0346 - accuracy: 0.9897\n",
            "Epoch 18/30\n",
            "938/938 [==============================] - 11s 12ms/step - loss: 0.0316 - accuracy: 0.9905\n",
            "Epoch 19/30\n",
            "938/938 [==============================] - 11s 12ms/step - loss: 0.0320 - accuracy: 0.9908\n",
            "Epoch 20/30\n",
            "938/938 [==============================] - 11s 12ms/step - loss: 0.0305 - accuracy: 0.9908\n",
            "Epoch 21/30\n",
            "938/938 [==============================] - 11s 11ms/step - loss: 0.0287 - accuracy: 0.9919\n",
            "Epoch 22/30\n",
            "938/938 [==============================] - 11s 11ms/step - loss: 0.0306 - accuracy: 0.9908\n",
            "Epoch 23/30\n",
            "938/938 [==============================] - 12s 12ms/step - loss: 0.0246 - accuracy: 0.9925\n",
            "Epoch 24/30\n",
            "938/938 [==============================] - 11s 11ms/step - loss: 0.0267 - accuracy: 0.9921\n",
            "Epoch 25/30\n",
            "938/938 [==============================] - 11s 12ms/step - loss: 0.0253 - accuracy: 0.9923\n",
            "Epoch 26/30\n",
            "938/938 [==============================] - 11s 11ms/step - loss: 0.0238 - accuracy: 0.9926\n",
            "Epoch 27/30\n",
            "938/938 [==============================] - 12s 12ms/step - loss: 0.0244 - accuracy: 0.9928\n",
            "Epoch 28/30\n",
            "938/938 [==============================] - 12s 12ms/step - loss: 0.0228 - accuracy: 0.9928\n",
            "Epoch 29/30\n",
            "938/938 [==============================] - 11s 12ms/step - loss: 0.0214 - accuracy: 0.9936\n",
            "Epoch 30/30\n",
            "938/938 [==============================] - 11s 11ms/step - loss: 0.0218 - accuracy: 0.9936\n"
          ],
          "name": "stdout"
        }
      ]
    },
    {
      "cell_type": "code",
      "metadata": {
        "colab": {
          "base_uri": "https://localhost:8080/",
          "height": 312
        },
        "id": "ipG8x0YSMGf6",
        "outputId": "fefcc56c-b7c2-46cb-99ef-5048747c1b23"
      },
      "source": [
        "# Plot the loss curve\n",
        "import matplotlib.pyplot as plt\n",
        "\n",
        "plt.title(\"Loss Over Time\")\n",
        "plt.plot(history.history[\"loss\"])\n",
        "plt.xlabel(\"Epochs\")\n",
        "plt.ylabel(\"Loss\")"
      ],
      "execution_count": 10,
      "outputs": [
        {
          "output_type": "execute_result",
          "data": {
            "text/plain": [
              "Text(0, 0.5, 'Loss')"
            ]
          },
          "metadata": {
            "tags": []
          },
          "execution_count": 10
        },
        {
          "output_type": "display_data",
          "data": {
            "image/png": "[encoded data removed]",
            "text/plain": [
              "<Figure size 432x288 with 1 Axes>"
            ]
          },
          "metadata": {
            "tags": [],
            "needs_background": "light"
          }
        }
      ]
    },
    {
      "cell_type": "code",
      "metadata": {
        "colab": {
          "base_uri": "https://localhost:8080/"
        },
        "id": "Tf5qJCD6GHJv",
        "outputId": "b2fb5d88-4198-4db2-c02a-395e75fb4fbf"
      },
      "source": [
        "# Evaluate the model\n",
        "model.evaluate(ds_test)"
      ],
      "execution_count": 11,
      "outputs": [
        {
          "output_type": "stream",
          "text": [
            "157/157 [==============================] - 1s 8ms/step - loss: 0.0618 - accuracy: 0.9844\n"
          ],
          "name": "stdout"
        },
        {
          "output_type": "execute_result",
          "data": {
            "text/plain": [
              "[0.061766065657138824, 0.9843999743461609]"
            ]
          },
          "metadata": {
            "tags": []
          },
          "execution_count": 11
        }
      ]
    },
    {
      "cell_type": "code",
      "metadata": {
        "id": "duOASsloMf-C"
      },
      "source": [
        ""
      ],
      "execution_count": null,
      "outputs": []
    }
  ]
}