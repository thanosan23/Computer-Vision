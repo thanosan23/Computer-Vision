{
  "nbformat": 4,
  "nbformat_minor": 0,
  "metadata": {
    "colab": {
      "name": "Untitled2.ipynb",
      "provenance": []
    },
    "kernelspec": {
      "name": "python3",
      "display_name": "Python 3"
    },
    "language_info": {
      "name": "python"
    }
  },
  "cells": [
    {
      "cell_type": "code",
      "metadata": {
        "id": "xbP74hJYIaT3"
      },
      "source": [
        "import torch\n",
        "import torchvision\n",
        "import torch.nn.functional as F \n",
        "import torchvision.datasets as datasets\n",
        "import torchvision.transforms as transforms \n",
        "from torch import optim  \n",
        "from torch import nn \n",
        "from torch.utils.data import DataLoader\n",
        "\n",
        "from tqdm import tqdm  \n",
        "import matplotlib.pyplot as plt\n",
        "\n",
        "device = torch.device(\"cuda\" if torch.cuda.is_available() else \"cpu\")"
      ],
      "execution_count": 1,
      "outputs": []
    },
    {
      "cell_type": "code",
      "metadata": {
        "id": "seh9XtzBI0nr"
      },
      "source": [
        "# Hyperparameters\n",
        "in_channels = 1\n",
        "num_classes = 10\n",
        "learning_rate = 0.001\n",
        "batch_size = 64\n",
        "num_epochs = 10\n",
        "\n",
        "# Load Data\n",
        "train_dataset = torchvision.datasets.FashionMNIST(\n",
        "    root = 'dataset/',\n",
        "    train = True,\n",
        "    download = True,\n",
        "    transform = transforms.Compose([\n",
        "        transforms.ToTensor(),\n",
        "        transforms.Normalize((0.5,), (0.5,))                                     \n",
        "    ])\n",
        ")\n",
        "test_dataset = torchvision.datasets.FashionMNIST(\n",
        "    root = 'dataset/',\n",
        "    train = False,\n",
        "    download = True,\n",
        "    transform = transforms.Compose([\n",
        "        transforms.ToTensor(),\n",
        "        transforms.Normalize((0.5,), (0.5,))                          \n",
        "    ])\n",
        ")\n",
        "train_loader = DataLoader(dataset=train_dataset, batch_size=batch_size, shuffle=True)\n",
        "test_loader = DataLoader(dataset=test_dataset, batch_size=batch_size, shuffle=True)"
      ],
      "execution_count": 5,
      "outputs": []
    },
    {
      "cell_type": "code",
      "metadata": {
        "colab": {
          "base_uri": "https://localhost:8080/"
        },
        "id": "dxr_dQTFI5YU",
        "outputId": "f95fa48c-be59-49a7-c6c7-b2c514452380"
      },
      "source": [
        "# Create the CNN\n",
        "class CNN(nn.Module):\n",
        "  def __init__(self, in_channels, num_classes):\n",
        "    super(CNN, self).__init__()\n",
        "    self.conv1 = nn.Conv2d(in_channels=in_channels, out_channels=6, kernel_size=5)\n",
        "    self.conv2 = nn.Conv2d(in_channels=6, out_channels=12, kernel_size=5)\n",
        "\n",
        "    self.pool = nn.MaxPool2d(kernel_size=2, stride=2)\n",
        "\n",
        "    self.fc1 = nn.Linear(in_features=12*4*4, out_features=120)\n",
        "    self.fc2 = nn.Linear(in_features=120, out_features=60)\n",
        "    self.out = nn.Linear(in_features=60, out_features=num_classes)\n",
        "\n",
        "  def forward(self, x):\n",
        "    x = self.conv1(x)\n",
        "    x = F.relu(x)\n",
        "    x = self.pool(x)\n",
        "\n",
        "    x = self.conv2(x)\n",
        "    x = F.relu(x)\n",
        "    x = self.pool(x)\n",
        "\n",
        "    x = x.reshape(-1, 12*4*4) # flatten\n",
        "    x = self.fc1(x)\n",
        "    x = F.relu(x)\n",
        "\n",
        "    x = self.fc2(x)\n",
        "    x = F.relu(x)\n",
        "\n",
        "    out = self.out(x)\n",
        "    return out\n",
        "\n",
        "model = CNN(in_channels=in_channels, num_classes=num_classes).to(device)\n",
        "print(model)"
      ],
      "execution_count": 3,
      "outputs": [
        {
          "output_type": "stream",
          "text": [
            "CNN(\n",
            "  (conv1): Conv2d(1, 6, kernel_size=(5, 5), stride=(1, 1))\n",
            "  (conv2): Conv2d(6, 12, kernel_size=(5, 5), stride=(1, 1))\n",
            "  (pool): MaxPool2d(kernel_size=2, stride=2, padding=0, dilation=1, ceil_mode=False)\n",
            "  (fc1): Linear(in_features=192, out_features=120, bias=True)\n",
            "  (fc2): Linear(in_features=120, out_features=60, bias=True)\n",
            "  (out): Linear(in_features=60, out_features=10, bias=True)\n",
            ")\n"
          ],
          "name": "stdout"
        }
      ]
    },
    {
      "cell_type": "code",
      "metadata": {
        "colab": {
          "base_uri": "https://localhost:8080/"
        },
        "id": "y5CzPeutI4lV",
        "outputId": "46cb6fcb-6ab0-43c1-ef57-ed25a494ac1b"
      },
      "source": [
        "# Loss and optimizer\n",
        "criterion = nn.CrossEntropyLoss()\n",
        "optimizer = optim.Adam(model.parameters(), lr=learning_rate)\n",
        "\n",
        "# Used to track loss\n",
        "losses = []\n",
        "\n",
        "# Training loop\n",
        "for epoch in range(num_epochs):\n",
        "    pbar = tqdm(train_loader, position=0, leave=True) # create progress bar\n",
        "    running_loss = 0\n",
        "    for batch_idx, (data, targets) in enumerate(pbar):\n",
        "        data, targets = data.to(device=device), targets.to(device=device)\n",
        "        # forward\n",
        "        scores = model(data)\n",
        "        loss = criterion(scores, targets)\n",
        "\n",
        "        # backward\n",
        "        optimizer.zero_grad()\n",
        "        loss.backward() # calculates gradients\n",
        "        optimizer.step() # updates params\n",
        "\n",
        "        pbar.set_postfix({\"Loss\": loss.item()}) # shows loss so we can see imporvement\n",
        "        pbar.refresh()\n",
        "\n",
        "        running_loss += loss.item() * data.size(0)\n",
        "\n",
        "      # TODO: Somethings to do in the future is to save the model if the validation_loss is less than the previous vlidation loss\n",
        "    losses.append(running_loss)"
      ],
      "execution_count": 6,
      "outputs": [
        {
          "output_type": "stream",
          "text": [
            "100%|██████████| 938/938 [00:30<00:00, 30.57it/s, Loss=0.278]\n",
            "100%|██████████| 938/938 [00:30<00:00, 30.42it/s, Loss=0.147]\n",
            "100%|██████████| 938/938 [00:30<00:00, 30.90it/s, Loss=0.132]\n",
            "100%|██████████| 938/938 [00:30<00:00, 31.19it/s, Loss=0.0702]\n",
            "100%|██████████| 938/938 [00:30<00:00, 30.93it/s, Loss=0.0756]\n",
            "100%|██████████| 938/938 [00:30<00:00, 30.85it/s, Loss=0.24]\n",
            "100%|██████████| 938/938 [00:30<00:00, 30.91it/s, Loss=0.0933]\n",
            "100%|██████████| 938/938 [00:30<00:00, 31.12it/s, Loss=0.245]\n",
            "100%|██████████| 938/938 [00:30<00:00, 30.73it/s, Loss=0.145]\n",
            "100%|██████████| 938/938 [00:30<00:00, 30.85it/s, Loss=0.212]\n"
          ],
          "name": "stderr"
        }
      ]
    },
    {
      "cell_type": "code",
      "metadata": {
        "colab": {
          "base_uri": "https://localhost:8080/"
        },
        "id": "JvnLszsjI8AP",
        "outputId": "f61abedb-7e75-4f98-ccbb-bae4dc9a8d23"
      },
      "source": [
        "def check_accuracy(loader, model):\n",
        "    num_correct = 0\n",
        "    num_samples = 0\n",
        "    model.eval()\n",
        "\n",
        "    with torch.no_grad():\n",
        "        for x, y in loader:\n",
        "            x = x.to(device=device)\n",
        "            y = y.to(device=device)\n",
        "\n",
        "            scores = model(x)\n",
        "            _, predictions = scores.max(1)\n",
        "            num_correct += (predictions == y).sum()\n",
        "            num_samples += predictions.size(0)\n",
        "\n",
        "\n",
        "    model.train()\n",
        "    return num_correct/num_samples\n",
        "\n",
        "\n",
        "print(f\"Accuracy on training set: {check_accuracy(train_loader, model)*100:.2f}\")\n",
        "print(f\"Accuracy on test set: {check_accuracy(test_loader, model)*100:.2f}\")"
      ],
      "execution_count": 8,
      "outputs": [
        {
          "output_type": "stream",
          "text": [
            "Accuracy on training set: 93.83\n",
            "Accuracy on test set: 89.23\n"
          ],
          "name": "stdout"
        }
      ]
    }
  ]
}
